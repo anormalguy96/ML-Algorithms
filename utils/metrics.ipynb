{
 "cells": [
  {
   "cell_type": "markdown",
   "id": "294bb64d",
   "metadata": {},
   "source": [
    "### This file is gonna contain functions for evaluation metrics used in supervised learning (e.g., accuracy, precision, recall, MSE, etc.).\n"
   ]
  },
  {
   "cell_type": "code",
   "execution_count": 1,
   "id": "cfcb9143",
   "metadata": {},
   "outputs": [],
   "source": [
    "import numpy as np"
   ]
  },
  {
   "cell_type": "markdown",
   "id": "49204ae1",
   "metadata": {},
   "source": [
    "#### Let's define each of these functions as \"def\""
   ]
  },
  {
   "cell_type": "code",
   "execution_count": 2,
   "id": "ecfb515d",
   "metadata": {},
   "outputs": [],
   "source": [
    "def accuracy(y_true, y_pred):\n",
    "    return np.mean(y_true == y_pred)\n",
    "\n",
    "def mean_squared_error(y_true, y_pred):\n",
    "    return np.mean((y_true - y_pred) ** 2)\n",
    "\n",
    "def mean_absolute_error(y_true, y_pred):\n",
    "    return np.mean(np.abs(y_true - y_pred))\n",
    "\n",
    "def precision(y_true, y_pred):\n",
    "    tp = np.sum((y_true == 1) & (y_pred == 1))\n",
    "    fp = np.sum((y_true == 0) & (y_pred == 1))\n",
    "    return tp / (tp + fp) if (tp + fp) != 0 else 0\n",
    "\n",
    "def recall(y_true, y_pred):\n",
    "    tp = np.sum((y_true == 1) & (y_pred == 1))\n",
    "    fn = np.sum((y_true == 1) & (y_pred == 0))\n",
    "    return tp / (tp + fn) if (tp + fn) != 0 else 0\n",
    "\n",
    "def f1_score(y_true, y_pred):\n",
    "    p = precision(y_true, y_pred)\n",
    "    r = recall(y_true, y_pred)\n",
    "    return 2 * (p * r) / (p + r) if (p + r) != 0 else 0"
   ]
  },
  {
   "cell_type": "markdown",
   "id": "0d2e922a-1172-4474-ae96-88eaa8c72712",
   "metadata": {},
   "source": [
    "### Let's try something dummy:\n",
    "### Suppose we have two pairs of array sets, one for classification and the other for regression:"
   ]
  },
  {
   "cell_type": "code",
   "execution_count": 3,
   "id": "410c3eac-9a9d-4768-b970-62885543fbd4",
   "metadata": {},
   "outputs": [],
   "source": [
    "#For classification:\n",
    "y_true = np.array([1, 0, 1, 1, 0, 1, 0])\n",
    "y_pred = np.array([1, 0, 0, 1, 0, 1, 1])\n",
    "\n",
    "#For regression (for MSE/MAE):\n",
    "y_true_reg = np.array([3.0, 2.5, 4.0, 5.0])\n",
    "y_pred_reg = np.array([2.8, 2.7, 4.1, 5.3])"
   ]
  },
  {
   "cell_type": "markdown",
   "id": "bcff63e9-546b-459c-bf8b-2675571d21dc",
   "metadata": {},
   "source": [
    "### Calling appropriate functions:"
   ]
  },
  {
   "cell_type": "markdown",
   "id": "e7b770b3-d6db-4334-8c59-8ac6451e3631",
   "metadata": {},
   "source": [
    "#### Classification:"
   ]
  },
  {
   "cell_type": "code",
   "execution_count": 4,
   "id": "f0f95b00-7bb4-4856-998a-e0db53201ea7",
   "metadata": {},
   "outputs": [
    {
     "name": "stdout",
     "output_type": "stream",
     "text": [
      "Accuracy: 0.7142857142857143\n",
      "Precision: 0.75\n",
      "Recall: 0.75\n",
      "F1 Score: 0.75\n"
     ]
    }
   ],
   "source": [
    "print(\"Accuracy:\", accuracy(y_true, y_pred))\n",
    "print(\"Precision:\", precision(y_true, y_pred))\n",
    "print(\"Recall:\", recall(y_true, y_pred))\n",
    "print(\"F1 Score:\", f1_score(y_true, y_pred))"
   ]
  },
  {
   "cell_type": "markdown",
   "id": "24cd4500-e5d7-4ab4-819b-3b34b2027d8a",
   "metadata": {},
   "source": [
    "#### Regression:"
   ]
  },
  {
   "cell_type": "code",
   "execution_count": 5,
   "id": "1bc73e56-7552-4230-ac5a-010eae01451c",
   "metadata": {},
   "outputs": [
    {
     "name": "stdout",
     "output_type": "stream",
     "text": [
      "Mean Squared Error: 0.04499999999999999\n",
      "Mean Absolute Error: 0.19999999999999996\n"
     ]
    }
   ],
   "source": [
    "print(\"Mean Squared Error:\", mean_squared_error(y_true_reg, y_pred_reg))\n",
    "print(\"Mean Absolute Error:\", mean_absolute_error(y_true_reg, y_pred_reg))"
   ]
  }
 ],
 "metadata": {
  "kernelspec": {
   "display_name": "Python 3 (ipykernel)",
   "language": "python",
   "name": "python3"
  },
  "language_info": {
   "codemirror_mode": {
    "name": "ipython",
    "version": 3
   },
   "file_extension": ".py",
   "mimetype": "text/x-python",
   "name": "python",
   "nbconvert_exporter": "python",
   "pygments_lexer": "ipython3",
   "version": "3.12.7"
  }
 },
 "nbformat": 4,
 "nbformat_minor": 5
}
