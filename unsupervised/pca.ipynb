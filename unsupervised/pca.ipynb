{
 "cells": [
  {
   "cell_type": "markdown",
   "id": "10cee5c9",
   "metadata": {},
   "source": [
    "## Principal Component Analysis (PCA)\n",
    "\n",
    "#### **Purpose:**  \n",
    "#### Reduce the dimensionality of data by finding new orthogonal axes (principal components) that capture the greatest variance.\n",
    "\n",
    "#### I am gonna explain the key concepts, don't worry.\n"
   ]
  },
  {
   "cell_type": "code",
   "execution_count": 1,
   "id": "5d325c6e",
   "metadata": {},
   "outputs": [],
   "source": [
    "import random\n",
    "import math\n",
    "import matplotlib.pyplot as plt\n",
    "\n",
    "random.seed(42)"
   ]
  },
  {
   "cell_type": "code",
   "execution_count": 2,
   "id": "2343f593",
   "metadata": {},
   "outputs": [
    {
     "data": {
      "image/png": "[encoded data removed]",
      "text/plain": [
       "<Figure size 600x400 with 1 Axes>"
      ]
     },
     "metadata": {},
     "output_type": "display_data"
    }
   ],
   "source": [
    "# I am so tired to manually create mini datasets :D\n",
    "def generate_3d_plane(n=300, noise=0.5):\n",
    "    data = []\n",
    "    for _ in range(n):\n",
    "        x = random.uniform(-5, 5)\n",
    "        y = random.uniform(-3, 3)\n",
    "        # z is a linear combination plus noise\n",
    "        z = 0.5 * x + 0.2 * y + random.gauss(0, noise)\n",
    "        data.append((x, y, z))\n",
    "    return data\n",
    "\n",
    "X = generate_3d_plane()\n",
    "xs, ys, zs = zip(*X)\n",
    "plt.figure(figsize=(6,4))\n",
    "plt.scatter(xs, zs, edgecolors='k', s=20)\n",
    "plt.title(\"View: x vs z\"); plt.xlabel(\"x\"); plt.ylabel(\"z\")\n",
    "plt.show()"
   ]
  },
  {
   "cell_type": "code",
   "execution_count": 4,
   "id": "a0e838b8",
   "metadata": {},
   "outputs": [
    {
     "name": "stdout",
     "output_type": "stream",
     "text": [
      "Training points: 240, Test points: 60\n"
     ]
    }
   ],
   "source": [
    "random.shuffle(X)\n",
    "split = int(0.8 * len(X))\n",
    "X_train = X[:split]\n",
    "X_test  = X[split:]\n",
    "print(f\"Training points: {len(X_train)}, Test points: {len(X_test)}\")"
   ]
  },
  {
   "cell_type": "code",
   "execution_count": 5,
   "id": "b81be016",
   "metadata": {},
   "outputs": [],
   "source": [
    "def mean_vector(points):\n",
    "    number_of_points = len(points)\n",
    "    number_of_dimensions = len(points[0])\n",
    "    \n",
    "    mean = []\n",
    "    \n",
    "    for d in range(number_of_dimensions):\n",
    "        sum_over_dimension = sum(point[d] for point in points)\n",
    "        mean_value = sum_over_dimension / number_of_points\n",
    "        mean.append(mean_value)\n",
    "\n",
    "    return mean\n",
    "\n",
    "\n",
    "def covariance_matrix(points):\n",
    "    number_of_points = len(points)\n",
    "    number_of_dimensions = len(points[0])\n",
    "\n",
    "    means = mean_vector(points)\n",
    "\n",
    "    covariance = [[0.0 for _ in range(number_of_dimensions)] for _ in range(number_of_dimensions)]\n",
    "\n",
    "    for point in points:\n",
    "        for i in range(number_of_dimensions):\n",
    "            for j in range(number_of_dimensions):\n",
    "                covariance[i][j] += (point[i] - means[i]) * (point[j] - means[j])\n",
    "\n",
    "    for i in range(number_of_dimensions):\n",
    "        for j in range(number_of_dimensions):\n",
    "            covariance[i][j] /= (number_of_points - 1)\n",
    "\n",
    "    return covariance"
   ]
  },
  {
   "cell_type": "markdown",
   "id": "df72676a",
   "metadata": {},
   "source": [
    "#### Now we are implementing power iteration in order to find the top eigenvector"
   ]
  },
  {
   "cell_type": "code",
   "execution_count": 6,
   "id": "966f827f",
   "metadata": {},
   "outputs": [],
   "source": [
    "def power_iteration(matrix, tol=1e-6, max_iters=1000):\n",
    "    dims = len(matrix)\n",
    "    vector = [random.random() for _ in range(dims)]\n",
    "    \n",
    "    norm = math.sqrt(sum(x * x for x in vector))\n",
    "    vector = [x / norm for x in vector]\n",
    "\n",
    "    for iteration in range(max_iters):\n",
    "        \n",
    "        w = [\n",
    "            sum(matrix[i][j] * vector[j] for j in range(dims))\n",
    "            for i in range(dims)\n",
    "        ]\n",
    "\n",
    "        lambda_ = sum(w[i] * vector[i] for i in range(dims))\n",
    "\n",
    "        norm_w = math.sqrt(sum(x * x for x in w))\n",
    "        next_vector = [x / norm_w for x in w]\n",
    "\n",
    "        difference = math.sqrt(sum(\n",
    "            (next_vector[i] - vector[i]) ** 2 for i in range(dims)\n",
    "        ))\n",
    "\n",
    "        if difference < tol:\n",
    "            return lambda_, next_vector\n",
    "\n",
    "        vector = next_vector\n",
    "\n",
    "    return lambda_, vector"
   ]
  },
  {
   "cell_type": "code",
   "execution_count": 7,
   "id": "6b048954",
   "metadata": {},
   "outputs": [],
   "source": [
    "class PCA:\n",
    "    def __init__(self, n_components=2, tol=1e-6, max_iters=500):\n",
    "        self.n_components = n_components\n",
    "        self.tol = tol\n",
    "        self.max_iters = max_iters\n",
    "\n",
    "    def fit(self, points):\n",
    "        self.mean_ = mean_vector(points)\n",
    "\n",
    "        centered_data = [\n",
    "            tuple(point[dim] - self.mean_[dim] for dim in range(len(point)))\n",
    "            for point in points\n",
    "        ]\n",
    "\n",
    "        covariance = covariance_matrix(centered_data)\n",
    "\n",
    "        self.components_ = []\n",
    "        self.explained_variance_ = []\n",
    "        matrix = covariance\n",
    "\n",
    "        for _ in range(self.n_components):\n",
    "            lambda_, vector = power_iteration(\n",
    "                matrix, tol=self.tol, max_iters=self.max_iters\n",
    "            )\n",
    "            self.components_.append(vector)\n",
    "            self.explained_variance_.append(lambda_)\n",
    "\n",
    "            dims = len(matrix)\n",
    "            for i in range(dims):\n",
    "                for j in range(dims):\n",
    "                    matrix[i][j] -= lambda_ * vector[i] * vector[j]\n",
    "\n",
    "        return self\n",
    "\n",
    "    def transform(self, points):\n",
    "        \n",
    "        centered_data = [\n",
    "            tuple(point[dim] - self.mean_[dim] for dim in range(len(point)))\n",
    "            for point in points\n",
    "        ]\n",
    "\n",
    "        projections = []\n",
    "        for point in centered_data:\n",
    "            coordinates = [\n",
    "                sum(point[dim] * component[dim] for dim in range(len(point)))\n",
    "                for component in self.components_\n",
    "            ]\n",
    "            projections.append(tuple(coordinates))\n",
    "\n",
    "        return projections\n",
    "\n",
    "    def predict(self, points):\n",
    "        \n",
    "        return self.transform(points)"
   ]
  },
  {
   "cell_type": "code",
   "execution_count": 8,
   "id": "6f131624",
   "metadata": {},
   "outputs": [
    {
     "name": "stdout",
     "output_type": "stream",
     "text": [
      "Mean vector: [0.033984954856629966, 0.04342160190012276, -0.03803530237197064]\n",
      "Principal components (directions):\n",
      " Component 1: [0.8970984434353098, -0.027548902166508592, 0.4409710203350833]\n",
      " Component 2: [-0.060941113815237334, 0.9808000543826279, 0.18524965309007338]\n",
      "Explained variances: [10.380723948100004, 3.1040054665093253]\n"
     ]
    }
   ],
   "source": [
    "model = PCA(n_components=2)\n",
    "model.fit(X_train)\n",
    "print(\"Mean vector:\", model.mean_)\n",
    "print(\"Principal components (directions):\")\n",
    "for i, v in enumerate(model.components_, 1):\n",
    "    print(f\" Component {i}:\", v)\n",
    "print(\"Explained variances:\", model.explained_variance_)"
   ]
  },
  {
   "cell_type": "code",
   "execution_count": 9,
   "id": "580b770c",
   "metadata": {},
   "outputs": [
    {
     "name": "stdout",
     "output_type": "stream",
     "text": [
      "Train MSE: 0.1978\n",
      "Test  MSE: 0.1823\n",
      "Train R²: 0.9855\n",
      "Test  R²: 0.9875\n"
     ]
    }
   ],
   "source": [
    "def reconstruct(projections, components, mean_vector):\n",
    "    \n",
    "    reconstructed = []\n",
    "    num_dimensions = len(mean_vector)\n",
    "\n",
    "    for coords in projections:\n",
    "        \n",
    "        point_rec = [mean_vector[d] for d in range(num_dimensions)]\n",
    "\n",
    "        \n",
    "        for comp_idx, component in enumerate(components):\n",
    "            for d in range(num_dimensions):\n",
    "                point_rec[d] += coords[comp_idx] * component[d]\n",
    "\n",
    "        reconstructed.append(tuple(point_rec))\n",
    "\n",
    "    return reconstructed\n",
    "\n",
    "\n",
    "def mean_squared_error(original, reconstructed):\n",
    "    \n",
    "    num_points = len(original)\n",
    "    num_dimensions = len(original[0])\n",
    "\n",
    "    total_se = 0.0\n",
    "    for i in range(num_points):\n",
    "        for d in range(num_dimensions):\n",
    "            error = original[i][d] - reconstructed[i][d]\n",
    "            total_se += error ** 2\n",
    "\n",
    "    return total_se / num_points\n",
    "\n",
    "\n",
    "def r2_score(original, reconstructed):\n",
    "    \n",
    "    num_points = len(original)\n",
    "    num_dimensions = len(original[0])\n",
    "\n",
    "    \n",
    "    global_mean = mean_vector(original)\n",
    "    tss = 0.0\n",
    "    for point in original:\n",
    "        for d in range(num_dimensions):\n",
    "            diff = point[d] - global_mean[d]\n",
    "            tss += diff ** 2\n",
    "\n",
    "    \n",
    "    rss = 0.0\n",
    "    for i in range(num_points):\n",
    "        for d in range(num_dimensions):\n",
    "            err = original[i][d] - reconstructed[i][d]\n",
    "            rss += err ** 2\n",
    "\n",
    "    return 1 - (rss / tss)\n",
    "\n",
    "\n",
    "\n",
    "train_proj = model.transform(X_train)\n",
    "test_proj  = model.predict(X_test)\n",
    "\n",
    "X_train_recon = reconstruct(train_proj, model.components_, model.mean_)\n",
    "X_test_recon  = reconstruct(test_proj,  model.components_, model.mean_)\n",
    "\n",
    "print(\"Train MSE:\", round(mean_squared_error(X_train, X_train_recon), 4))\n",
    "print(\"Test  MSE:\", round(mean_squared_error(X_test,  X_test_recon), 4))\n",
    "print(\"Train R²:\", round(r2_score(X_train, X_train_recon), 4))\n",
    "print(\"Test  R²:\", round(r2_score(X_test,  X_test_recon), 4))"
   ]
  },
  {
   "cell_type": "code",
   "execution_count": 10,
   "id": "e7120bf4",
   "metadata": {},
   "outputs": [
    {
     "data": {
      "image/png": "[encoded data removed]",
      "text/plain": [
       "<Figure size 600x400 with 1 Axes>"
      ]
     },
     "metadata": {},
     "output_type": "display_data"
    }
   ],
   "source": [
    "proj2 = model.transform(X_test)\n",
    "x1, x2 = zip(*proj2)\n",
    "plt.figure(figsize=(6,4))\n",
    "plt.scatter(x1, x2, edgecolors='k', s=30)\n",
    "plt.title(\"Test Data projected onto PC1 vs PC2\")\n",
    "plt.xlabel(\"PC1\"); plt.ylabel(\"PC2\")\n",
    "plt.show()"
   ]
  },
  {
   "cell_type": "markdown",
   "id": "79be74bd",
   "metadata": {},
   "source": [
    "### Now What We’ve Understood\n",
    "\n",
    "#### So, What Is PCA Really?\n",
    "\n",
    "At its simplest way, I could say that Principal Component Analysis (PCA) is a way to find the “best” directions in your data—those lines or planes along which your points spread out the most. Picture a cloud of data points in space: PCA first finds the single line that captures the largest chunk of that scatter, then finds a second, right‑angled line that captures the next biggest chunk, and so on. By doing this, you can represent your original high‑dimensional data in a much lower number of dimensions, while still keeping as much information as possible.\n",
    "\n",
    "\n",
    "#### The Main Ideas, Step by Step\n",
    "\n",
    "**Centre Your Cloud**  \n",
    "* Before anything else, we subtract the mean of each feature so that the entire cloud of points sits neatly at the origin (0,0,…). If you skip this, your principal directions will simply point toward the “centre of mass” of the data rather than the true directions where the data fans out.\n",
    "\n",
    "**Measure Joint Variability**  \n",
    "* We hand‑craft the covariance matrix, a square table where each entry describes how two features vary together.  \n",
    "   - Diagonal entries (feature with itself) measure the variance of each feature.  \n",
    "   - Off‑diagonals measure how pairs of features co‑vary.  \n",
    "   Large values here signal that these features share important patterns of movement, and PCA uses these to identify the best axes.\n",
    "\n",
    "**Extract the Strongest Directions (Power Iteration)**  \n",
    "* Instead of relying on a black‑box function, we use power iteration to find the top eigenvector of the covariance matrix. This is arguably the trickiest part of the code:  \n",
    "   - We start with a random guess vector.  \n",
    "   - Multiply it by the covariance matrix to “nudge” it in the direction of greatest variance.  \n",
    "   - Normalise the result (so it doesn’t blow up) and repeat.  \n",
    "   - Over successive multiplications, this vector converges to the principal direction—mathematically, the eigenvector associated with the largest eigenvalue.  \n",
    "   The eigenvalue itself quantifies exactly how much variance lies along that direction.\n",
    "\n",
    "**Peel Off Layers (Deflation)**  \n",
    "* Once we’ve locked onto the first principal component, we deflate the covariance matrix by subtracting the contribution of that component. This forces the next round of power iteration to find a new direction that is orthogonal (at right angles) to all previously found components. We repeat this until we have as many components as we specified.\n",
    "\n",
    "**Project and Reconstruct**  \n",
    "   - **Projection:** We take each centred data point and compute its dot‑products with the principal components. This gives us a new set of coordinates in the reduced space.  \n",
    "   - **Reconstruction:** By reversing the process—adding back the mean and summing each component times its coordinate—we rebuild an approximation of the original point.  \n",
    "   Computing Mean Squared Error (MSE) and R² between the original and reconstructed points tells us how much information we lost by reducing dimensions.\n",
    "\n",
    "**Visualise the Result**  \n",
    "* Finally, plotting the test data along the first two principal components shows a clear, flattened view of the original 3D plane. You’ll notice there are no artificial clusters—just the continuous spread you’d expect if the data really lay on a 2D surface.\n",
    "\n",
    "#### The Trickiest Parts of the Code\n",
    "\n",
    "Covariance Computation\n",
    "* We manually loop over every point and every pair of dimensions, summing the product of centred values. This double loop can feel slow or unwieldy compared to calling `np.cov`, but it makes the maths crystal‑clear.\n",
    "\n",
    "Power Iteration\n",
    "* Turning a random vector into an eigenvector is all about repeated matrix–vector multiplications and normalisations. The key is watching for convergence: when the vector stops changing beyond a tiny threshold, you know you’ve found your principal direction.\n",
    "\n",
    "Matrix Deflation\n",
    "* After finding one component, we subtract its share of variance from the covariance matrix. Code‑wise, this is a nested loop updating every entry of the matrix—a straightforward translation of the formula, but easy to get wrong if you miss the signs or scaling.\n",
    "\n",
    "Reconstruction and R²\n",
    "* Computing R² without libraries involves carefully calculating total variance and residual sums of squares by hand. Getting the denominators right—using N−1 for covariance, N for MSE—matters for a fair performance measure.\n",
    "\n",
    "Bottom Line\n",
    "* By building PCA from scratch—centring data, crafting the covariance, pulling out eigenvectors via power iteration, deflating matrices and reconstructing points—you’ve demystified every step of the algorithm. You now know why each piece is needed, how it works under the hood, and where you might plug in optimisations or extensions for larger, more complex datasets.\n"
   ]
  }
 ],
 "metadata": {
  "kernelspec": {
   "display_name": "Python 3",
   "language": "python",
   "name": "python3"
  },
  "language_info": {
   "codemirror_mode": {
    "name": "ipython",
    "version": 3
   },
   "file_extension": ".py",
   "mimetype": "text/x-python",
   "name": "python",
   "nbconvert_exporter": "python",
   "pygments_lexer": "ipython3",
   "version": "3.10.0"
  }
 },
 "nbformat": 4,
 "nbformat_minor": 5
}
