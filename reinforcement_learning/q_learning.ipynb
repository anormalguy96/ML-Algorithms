{
 "cells": [
  {
   "cell_type": "markdown",
   "id": "cf3077c4",
   "metadata": {},
   "source": [
    "## Q‑Learning\n"
   ]
  },
  {
   "cell_type": "code",
   "execution_count": 1,
   "id": "564e6972",
   "metadata": {},
   "outputs": [],
   "source": [
    "import random\n",
    "import math\n",
    "import matplotlib.pyplot as plt\n",
    "\n",
    "random.seed(42)"
   ]
  },
  {
   "cell_type": "markdown",
   "id": "de627e81",
   "metadata": {},
   "source": [
    "#### Defining the Grid‑World\n",
    "\n",
    "We’ll use a small 5×5 grid.  \n",
    "- The agent starts at the top‑left corner (0,0).  \n",
    "- The goal sits at the bottom‑right corner (4,4) with a reward of +10.  \n",
    "- Every step costs –1 to encourage shorter paths.  \n",
    "- No obstacles for simplicity, but you could add walls by checking positions in `step()`.\n"
   ]
  },
  {
   "cell_type": "code",
   "execution_count": 2,
   "id": "718c28bb",
   "metadata": {},
   "outputs": [],
   "source": [
    "class GridWorld:\n",
    "    def __init__(self, size=5):\n",
    "        self.size = size\n",
    "        self.start = (0, 0)\n",
    "        self.goal = (size - 1, size - 1)\n",
    "        self.reset()\n",
    "\n",
    "    def reset(self):\n",
    "        self.agent_pos = self.start\n",
    "        return self.agent_pos\n",
    "\n",
    "    def step(self, action):\n",
    "        x, y = self.agent_pos\n",
    "        if action == 'up':\n",
    "            x = max(0, x - 1)\n",
    "        elif action == 'down':\n",
    "            x = min(self.size - 1, x + 1)\n",
    "        elif action == 'left':\n",
    "            y = max(0, y - 1)\n",
    "        elif action == 'right':\n",
    "            y = min(self.size - 1, y + 1)\n",
    "\n",
    "        self.agent_pos = (x, y)\n",
    "        if self.agent_pos == self.goal:\n",
    "            return self.agent_pos, 10, True\n",
    "        else:\n",
    "            return self.agent_pos, -1, False\n",
    "\n",
    "    def possible_actions(self):\n",
    "        return ['up', 'down', 'left', 'right']"
   ]
  },
  {
   "cell_type": "code",
   "execution_count": 3,
   "id": "e4d9606e",
   "metadata": {},
   "outputs": [],
   "source": [
    "def init_q_table(env):\n",
    "    Q = {}\n",
    "    for i in range(env.size):\n",
    "        for j in range(env.size):\n",
    "            Q[(i, j)] = {a: 0.0 for a in env.possible_actions()}\n",
    "    return Q\n",
    "\n",
    "env = GridWorld()\n",
    "Q = init_q_table(env)"
   ]
  },
  {
   "cell_type": "markdown",
   "id": "5b1f6a2d",
   "metadata": {},
   "source": [
    "### The Q‑Learning Update Rule\n",
    "\n",
    "At each step, we update:\n",
    "  \n",
    "$Q(s, a) ← Q(s, a) + α [ r + γ maxₐ' Q(s', a') – Q(s, a) ]$\n",
    "\n",
    "- $α$ is the learning rate (how fast we update).  \n",
    "- $γ$ is the discount factor (how much we value future reward).  \n",
    "- $ε$‑greedy policy balances exploration vs exploitation."
   ]
  },
  {
   "cell_type": "code",
   "execution_count": 4,
   "id": "7575085d",
   "metadata": {},
   "outputs": [],
   "source": [
    "def q_learning(env, Q, episodes=500, alpha=0.1, gamma=0.99, epsilon=0.1, max_steps=100):\n",
    "    episode_rewards = []\n",
    "\n",
    "    for ep in range(episodes):\n",
    "        state = env.reset()\n",
    "        total_reward = 0\n",
    "\n",
    "        for _ in range(max_steps):\n",
    "            \n",
    "            if random.random() < epsilon:\n",
    "                action = random.choice(env.possible_actions())\n",
    "            else:\n",
    "                action = max(Q[state], key=Q[state].get)\n",
    "\n",
    "            next_state, reward, done = env.step(action)\n",
    "            total_reward += reward\n",
    "\n",
    "            best_next = max(Q[next_state].values())\n",
    "            td_target = reward + gamma * best_next\n",
    "            td_error = td_target - Q[state][action]\n",
    "            Q[state][action] += alpha * td_error\n",
    "\n",
    "            state = next_state\n",
    "            if done:\n",
    "                break\n",
    "\n",
    "        episode_rewards.append(total_reward)\n",
    "\n",
    "    return Q, episode_rewards\n",
    "\n",
    "Q, rewards = q_learning(env, Q)"
   ]
  },
  {
   "cell_type": "code",
   "execution_count": 5,
   "id": "817af4c3",
   "metadata": {},
   "outputs": [
    {
     "data": {
      "image/png": "[encoded data removed]",
      "text/plain": [
       "<Figure size 600x400 with 1 Axes>"
      ]
     },
     "metadata": {},
     "output_type": "display_data"
    }
   ],
   "source": [
    "plt.figure(figsize=(6,4))\n",
    "plt.plot(rewards)\n",
    "plt.xlabel(\"Episode\")\n",
    "plt.ylabel(\"Total Reward\")\n",
    "plt.title(\"Learning Curve of Q‑Learning Agent\")\n",
    "plt.show()"
   ]
  },
  {
   "cell_type": "code",
   "execution_count": 6,
   "id": "a6f73b11",
   "metadata": {},
   "outputs": [
    {
     "name": "stdout",
     "output_type": "stream",
     "text": [
      " →   ↓   ↓   ↓   ↓  \n",
      " →   ↓   →   ↓   ↓  \n",
      " →   →   ↓   →   ↓  \n",
      " ↑   ↓   ↓   ↓   ↓  \n",
      " →   →   →   →   G  \n"
     ]
    }
   ],
   "source": [
    "policy = {}\n",
    "for state, actions in Q.items():\n",
    "    best_action = max(actions, key=actions.get)\n",
    "    policy[state] = best_action\n",
    "\n",
    "arrow = {'up':'↑', 'down':'↓', 'left':'←', 'right':'→'}\n",
    "\n",
    "for i in range(env.size):\n",
    "    row = ''\n",
    "    for j in range(env.size):\n",
    "        if (i, j) == env.goal:\n",
    "            row += ' G  '\n",
    "        else:\n",
    "            row += f' {arrow[policy[(i,j)]]}  '\n",
    "    print(row)"
   ]
  },
  {
   "cell_type": "markdown",
   "id": "28cf9130",
   "metadata": {},
   "source": [
    "### What We’ve Understood from Q-Learning\n",
    "\n",
    "#### So, what is reinforcement learning?\n",
    "\n",
    "Reinforcement learning is all about learning by doing — or more precisely, **learning by trial and error**. You have an agent (like a robot, game character, or in our case, a little dot in a grid), and it moves around in an environment. Every time it takes an action, it gets feedback: either a reward (positive) or a penalty (negative). Based on this feedback, it slowly figures out which actions are good and which ones are not.\n",
    "\n",
    "The agent’s goal is to learn a strategy — called a policy — that helps it make the best possible decisions to collect as much reward as it can over time. What’s cool about reinforcement learning is that the agent doesn’t need to know anything about the world in advance. It just needs a way to explore and learn from experience.\n",
    "\n",
    "This makes reinforcement learning very different from supervised learning, where you get labelled examples. Here, there are no labels — only actions, rewards, and consequences.\n",
    "\n",
    "\n",
    "#### What does Q-learning do exactly?\n",
    "\n",
    "Q-learning is one of the most popular and easy-to-understand reinforcement learning algorithms. The $$“Q”$$ stands for $$“quality”$$ — more specifically, the quality of an action taken in a certain state. The goal is to figure out how good each action is, so the agent can always pick the best one.\n",
    "\n",
    "In our grid world example, the agent starts with zero knowledge. Every state–action pair has a Q-value of zero. As it moves around, it starts updating these values using a simple formula that considers the reward it just got and the best possible future reward from the next state.\n",
    "\n",
    "This update process happens over and over again. At first, the agent mostly explores — it tries random actions to see what happens. But over time, as it gains experience, it starts choosing smarter actions that have higher Q-values. This is called balancing exploration and exploitation.\n",
    "\n",
    "The learning curve we plotted shows this nicely. In the beginning, the agent is lost and keeps taking random steps, so the rewards are negative. But after enough episodes, it figures out the shortest path to the goal, and the total reward goes up.\n",
    "\n",
    "Finally, we extracted a policy by picking the action with the highest Q-value for every cell in the grid. The arrows we printed showed that the agent learned a direct route to the goal — exactly what we hoped for."
   ]
  }
 ],
 "metadata": {
  "kernelspec": {
   "display_name": "Python 3",
   "language": "python",
   "name": "python3"
  },
  "language_info": {
   "codemirror_mode": {
    "name": "ipython",
    "version": 3
   },
   "file_extension": ".py",
   "mimetype": "text/x-python",
   "name": "python",
   "nbconvert_exporter": "python",
   "pygments_lexer": "ipython3",
   "version": "3.10.0"
  }
 },
 "nbformat": 4,
 "nbformat_minor": 5
}
