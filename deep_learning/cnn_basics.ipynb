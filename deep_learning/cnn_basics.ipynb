{
 "cells": [
  {
   "cell_type": "markdown",
   "id": "c7acfb2b",
   "metadata": {},
   "source": [
    "## CNN (Convolutional Neural Networks) Basics\n",
    "\n",
    "Convolutional Neural Networks (CNNs) are designed to handle data that has a grid-like structure — like images. Instead of connecting every neuron to every pixel like an MLP, CNNs **look at small local regions** of the image and slide filters over it to detect patterns."
   ]
  },
  {
   "cell_type": "code",
   "execution_count": 1,
   "id": "73609cb1",
   "metadata": {},
   "outputs": [],
   "source": [
    "import random\n",
    "import math\n",
    "import matplotlib.pyplot as plt\n",
    "# hahaha, no random.seed() this time :D"
   ]
  },
  {
   "cell_type": "markdown",
   "id": "9a84a1f6",
   "metadata": {},
   "source": [
    "### Example Input: Grayscale Image\n",
    "\n",
    "A small 5×5 grayscale image using nested lists. Each value is a pixel intensity from 0 to 1."
   ]
  },
  {
   "cell_type": "code",
   "execution_count": 2,
   "id": "4cf2b999",
   "metadata": {},
   "outputs": [],
   "source": [
    "image = [\n",
    "    [0.2, 0.3, 0.5, 0.3, 0.2],\n",
    "    [0.1, 0.6, 0.8, 0.6, 0.1],\n",
    "    [0.3, 0.9, 1.0, 0.9, 0.3],\n",
    "    [0.1, 0.6, 0.8, 0.6, 0.1],\n",
    "    [0.2, 0.3, 0.5, 0.3, 0.2],\n",
    "]"
   ]
  },
  {
   "cell_type": "code",
   "execution_count": 3,
   "id": "cb49c4f9",
   "metadata": {},
   "outputs": [],
   "source": [
    "# 3×3 filter (like edge detector)\n",
    "kernel = [\n",
    "    [-1, -1, -1],\n",
    "    [-1,  8, -1],\n",
    "    [-1, -1, -1],\n",
    "]"
   ]
  },
  {
   "cell_type": "code",
   "execution_count": 4,
   "id": "3f1908c1",
   "metadata": {},
   "outputs": [],
   "source": [
    "def convolve2d(image, kernel):\n",
    "    h, w = len(image), len(image[0])\n",
    "    kh, kw = len(kernel), len(kernel[0])\n",
    "    output = []\n",
    "\n",
    "    for i in range(h - kh + 1):\n",
    "        row = []\n",
    "        for j in range(w - kw + 1):\n",
    "            val = 0\n",
    "            for ki in range(kh):\n",
    "                for kj in range(kw):\n",
    "                    val += image[i + ki][j + kj] * kernel[ki][kj]\n",
    "            row.append(val)\n",
    "        output.append(row)\n",
    "    return output\n",
    "\n",
    "convolved = convolve2d(image, kernel)"
   ]
  },
  {
   "cell_type": "markdown",
   "id": "233fe790",
   "metadata": {},
   "source": [
    "### ReLU Activation\n",
    "\n",
    "We apply ReLU (Rectified Linear Unit) to introduce non-linearity. It just keeps positive values and zeroes out the rest."
   ]
  },
  {
   "cell_type": "code",
   "execution_count": 5,
   "id": "ea8b875e",
   "metadata": {},
   "outputs": [],
   "source": [
    "def relu(feature_map):\n",
    "    return [[max(0, val) for val in row] for row in feature_map]\n",
    "\n",
    "activated = relu(convolved)"
   ]
  },
  {
   "cell_type": "markdown",
   "id": "3f9ddd11",
   "metadata": {},
   "source": [
    "### Step 4 – Max Pooling\n",
    "\n",
    "Max pooling downsamples the feature map by taking the maximum in each 2×2 region. It reduces size and keeps strong features."
   ]
  },
  {
   "cell_type": "code",
   "execution_count": 6,
   "id": "4b226822",
   "metadata": {},
   "outputs": [],
   "source": [
    "def max_pooling(feature_map, size=2, stride=2):\n",
    "    h, w = len(feature_map), len(feature_map[0])\n",
    "    output = []\n",
    "    for i in range(0, h - size + 1, stride):\n",
    "        row = []\n",
    "        for j in range(0, w - size + 1, stride):\n",
    "            patch = [feature_map[i + m][j + n] for m in range(size) for n in range(size)]\n",
    "            row.append(max(patch))\n",
    "        output.append(row)\n",
    "    return output\n",
    "\n",
    "pooled = max_pooling(activated)"
   ]
  },
  {
   "cell_type": "code",
   "execution_count": 7,
   "id": "ad3d3b95",
   "metadata": {},
   "outputs": [
    {
     "data": {
      "image/png": "[encoded data removed]",
      "text/plain": [
       "<Figure size 640x480 with 1 Axes>"
      ]
     },
     "metadata": {},
     "output_type": "display_data"
    },
    {
     "data": {
      "image/png": "[encoded data removed]",
      "text/plain": [
       "<Figure size 640x480 with 1 Axes>"
      ]
     },
     "metadata": {},
     "output_type": "display_data"
    },
    {
     "data": {
      "image/png": "[encoded data removed]",
      "text/plain": [
       "<Figure size 640x480 with 1 Axes>"
      ]
     },
     "metadata": {},
     "output_type": "display_data"
    },
    {
     "data": {
      "image/png": "[encoded data removed]",
      "text/plain": [
       "<Figure size 640x480 with 1 Axes>"
      ]
     },
     "metadata": {},
     "output_type": "display_data"
    }
   ],
   "source": [
    "def plot_feature_map(data, title):\n",
    "    plt.imshow(data, cmap='gray')\n",
    "    plt.title(title)\n",
    "    plt.axis('off')\n",
    "    plt.show()\n",
    "\n",
    "plot_feature_map(image, \"Original Image\")\n",
    "plot_feature_map(convolved, \"After Convolution\")\n",
    "plot_feature_map(activated, \"After ReLU\")\n",
    "plot_feature_map(pooled, \"After Max Pooling\")"
   ]
  },
  {
   "cell_type": "markdown",
   "id": "6dc76f09",
   "metadata": {},
   "source": [
    "## What We’ve Understood from CNN Basics\n",
    "\n",
    "This notebook showed how CNNs process image data using a few core operations — each simple on its own but powerful together.\n",
    "\n",
    "**Convolution** slides a small filter over the image and captures patterns — like edges or shapes. Instead of using fully connected neurons, it processes local regions.\n",
    "\n",
    "**ReLU** makes the network non-linear by zeroing out negatives and keeping positives. This helps the model focus on strong signals.\n",
    "\n",
    "**Max pooling** reduces the size of the image while keeping key features. This makes the model faster and more robust.\n",
    "\n",
    "We saw how an image goes through each step and slowly transforms. This is just the start — real CNNs use many filters and layers — but now you know how the building blocks work.\n",
    "\n",
    "By doing it all from scratch, you’ve peeled back the layers of abstraction and really seen the “mechanics” of CNNs in action."
   ]
  }
 ],
 "metadata": {
  "kernelspec": {
   "display_name": "Python 3",
   "language": "python",
   "name": "python3"
  },
  "language_info": {
   "codemirror_mode": {
    "name": "ipython",
    "version": 3
   },
   "file_extension": ".py",
   "mimetype": "text/x-python",
   "name": "python",
   "nbconvert_exporter": "python",
   "pygments_lexer": "ipython3",
   "version": "3.10.0"
  }
 },
 "nbformat": 4,
 "nbformat_minor": 5
}
