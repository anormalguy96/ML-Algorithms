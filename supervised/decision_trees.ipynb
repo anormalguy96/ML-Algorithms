{
 "cells": [
  {
   "cell_type": "markdown",
   "id": "19d8990a",
   "metadata": {},
   "source": [
    "## Decision Tree"
   ]
  },
  {
   "cell_type": "code",
   "execution_count": 8,
   "id": "bf7e6900",
   "metadata": {},
   "outputs": [],
   "source": [
    "import random\n",
    "import matplotlib.pyplot as plt\n",
    "\n",
    "random.seed(0)\n",
    "cluster_0 = [(random.uniform(0, 5), random.uniform(0, 5)) for _ in range(50)]\n",
    "cluster_1 = [(random.uniform(5, 10), random.uniform(5, 10)) for _ in range(50)]\n",
    "X = cluster_0 + cluster_1\n",
    "y = [0]*50 + [1]*50"
   ]
  },
  {
   "cell_type": "code",
   "execution_count": 9,
   "id": "194e7dd6",
   "metadata": {},
   "outputs": [],
   "source": [
    "data = list(zip(X, y))\n",
    "random.shuffle(data)\n",
    "\n",
    "split_idx = int(0.75 * len(data))\n",
    "\n",
    "train_data = data[:split_idx]\n",
    "test_data  = data[split_idx:]\n",
    "\n",
    "X_train, y_train = zip(*train_data)\n",
    "X_test,  y_test  = zip(*test_data)"
   ]
  },
  {
   "cell_type": "code",
   "execution_count": 10,
   "id": "c498c0a1",
   "metadata": {},
   "outputs": [],
   "source": [
    "def gini_index(groups, classes):\n",
    "    \n",
    "    n_instances = sum(len(group) for group in groups)\n",
    "    gini = 0.0\n",
    "    for group in groups:\n",
    "        size = len(group)\n",
    "        if size == 0:\n",
    "            continue\n",
    "        score = 0.0\n",
    "        \n",
    "        for class_val in classes:\n",
    "            p = sum(1 for row in group if row[-1] == class_val) / size\n",
    "            score += p * p\n",
    "        gini += (1.0 - score) * (size / n_instances)\n",
    "    return gini\n",
    "\n",
    "def test_split(index, value, dataset):\n",
    "    \n",
    "    left, right = [], []\n",
    "    for row in dataset:\n",
    "        if row[0][index] < value:\n",
    "            left.append(row)\n",
    "        else:\n",
    "            right.append(row)\n",
    "    return left, right\n",
    "\n",
    "def get_split(dataset):\n",
    "    \n",
    "    class_values = list({row[-1] for row in dataset})\n",
    "    best_index, best_value, best_score, best_groups = None, None, float('inf'), None\n",
    "    \n",
    "    for index in [0, 1]:\n",
    "        values = sorted({row[0][index] for row in dataset})\n",
    "        \n",
    "        for i in range(len(values)-1):\n",
    "            threshold = (values[i] + values[i+1]) / 2\n",
    "            groups = test_split(index, threshold, dataset)\n",
    "            gini = gini_index(groups, class_values)\n",
    "            \n",
    "            if gini < best_score:\n",
    "                best_index, best_value, best_score, best_groups = index, threshold, gini, groups\n",
    "    return {'index': best_index, 'value': best_value, 'groups': best_groups}\n",
    "\n",
    "def to_terminal(group):\n",
    "    outcomes = [row[-1] for row in group]\n",
    "    return max(set(outcomes), key=outcomes.count)\n",
    "\n",
    "def split(node, max_depth, min_size, depth):\n",
    "    left_group, right_group = node['groups']\n",
    "    del(node['groups'])\n",
    "    \n",
    "    if not left_group or not right_group:\n",
    "        node['left']  = node['right'] = to_terminal(left_group + right_group)\n",
    "        return\n",
    "    \n",
    "    if depth >= max_depth:\n",
    "        node['left'], node['right'] = to_terminal(left_group), to_terminal(right_group)\n",
    "        return\n",
    "    \n",
    "    if len(left_group) <= min_size:\n",
    "        node['left'] = to_terminal(left_group)\n",
    "    else:\n",
    "        node['left'] = get_split(left_group)\n",
    "        split(node['left'], max_depth, min_size, depth+1)\n",
    "    \n",
    "    if len(right_group) <= min_size:\n",
    "        node['right'] = to_terminal(right_group)\n",
    "    else:\n",
    "        node['right'] = get_split(right_group)\n",
    "        split(node['right'], max_depth, min_size, depth+1)\n",
    "\n",
    "class DecisionTree:\n",
    "    def __init__(self, max_depth=3, min_size=1):\n",
    "        self.max_depth = max_depth\n",
    "        self.min_size = min_size\n",
    "        self.root = None\n",
    "\n",
    "    def fit(self, X, y):\n",
    "        dataset = [(X[i], y[i]) for i in range(len(X))]\n",
    "        self.root = get_split(dataset)\n",
    "        split(self.root, self.max_depth, self.min_size, 1)\n",
    "\n",
    "    def _predict_node(self, node, row):\n",
    "        if isinstance(node, dict):\n",
    "            if row[node['index']] < node['value']:\n",
    "                return self._predict_node(node['left'], row)\n",
    "            else:\n",
    "                return self._predict_node(node['right'], row)\n",
    "        return node\n",
    "\n",
    "    def predict(self, X):\n",
    "        return [self._predict_node(self.root, sample) for sample in X]"
   ]
  },
  {
   "cell_type": "code",
   "execution_count": 11,
   "id": "3c341937",
   "metadata": {},
   "outputs": [
    {
     "name": "stdout",
     "output_type": "stream",
     "text": [
      "Test Accuracy: 100.00%\n"
     ]
    }
   ],
   "source": [
    "model = DecisionTree(max_depth=3, min_size=5)\n",
    "model.fit(X_train, y_train)\n",
    "\n",
    "y_pred = model.predict(X_test)\n",
    "accuracy = sum(yt == yp for yt, yp in zip(y_test, y_pred)) / len(y_test)\n",
    "print(f\"Test Accuracy: {accuracy:.2%}\")"
   ]
  },
  {
   "cell_type": "code",
   "execution_count": 12,
   "id": "5d9aebf8",
   "metadata": {},
   "outputs": [
    {
     "data": {
      "image/png": "[encoded data removed]",
      "text/plain": [
       "<Figure size 600x600 with 1 Axes>"
      ]
     },
     "metadata": {},
     "output_type": "display_data"
    }
   ],
   "source": [
    "test_x = [pt[0] for pt in X_test]\n",
    "test_y = [pt[1] for pt in X_test]\n",
    "colors = ['green' if true==pred else 'red' for true, pred in zip(y_test, y_pred)]\n",
    "\n",
    "plt.figure(figsize=(6,6))\n",
    "plt.scatter(test_x, test_y, c=colors, edgecolors='k', s=60)\n",
    "\n",
    "plt.xlabel('Feature 1')\n",
    "plt.ylabel('Feature 2')\n",
    "plt.title('Decision Tree Test Predictions\\n(green=correct, red=incorrect)')\n",
    "plt.show()"
   ]
  },
  {
   "cell_type": "markdown",
   "id": "47c83465",
   "metadata": {},
   "source": [
    "### What we have understood:\n",
    "The part of `class DecisionTreeStump()` partially explains that a Decision Tree (specifically a decision stump, meaning only one split) chooses the best feature and threshold that splits the training data into pure subgroups by minimising Gini Impurity:\n",
    "Gini = `1 − ∑ (pᵢ)²`\n",
    "* Where pᵢ is the proportion of class i in the group.\n",
    "Note: Explanation of proportion of class with example:\n",
    "\n",
    "##### Let’s say you have a group of 10 samples, where:\n",
    "\n",
    "* ##### 7 belong to class 0\n",
    "* ##### 3 belong to class 1\n",
    "\n",
    "##### Then the class probabilities are:\n",
    "\n",
    "- ##### $p_0 = \\frac{7}{10} = 0.7$  \n",
    "- ##### $p_1 = \\frac{3}{10} = 0.3$\n",
    "\n",
    "##### Now, applying the Gini Impurity formula:\n",
    "\n",
    "$$\n",
    "\\text{Gini} = 1 - (p_0^2 + p_1^2) = 1 - (0.7^2 + 0.3^2) = 1 - (0.49 + 0.09) = 0.42\n",
    "$$\n",
    "\n",
    "* #####  So, the Gini impurity for this split is **0.42**\n",
    "\n",
    "\n",
    "The decision stump checks both features and all possible midpoints as thresholds, and keeps the one with the lowest impurity.\n",
    "\n",
    "It is essentially a one-step `\"if‑else\"` classifier: `“If feature < threshold, predict class A; else, class B”`.\n",
    "\n",
    "In summary, Decision Trees recursively divide the space, but stumps stop after a single, optimal split."
   ]
  }
 ],
 "metadata": {
  "kernelspec": {
   "display_name": "Python 3",
   "language": "python",
   "name": "python3"
  },
  "language_info": {
   "codemirror_mode": {
    "name": "ipython",
    "version": 3
   },
   "file_extension": ".py",
   "mimetype": "text/x-python",
   "name": "python",
   "nbconvert_exporter": "python",
   "pygments_lexer": "ipython3",
   "version": "3.10.0"
  }
 },
 "nbformat": 4,
 "nbformat_minor": 5
}
